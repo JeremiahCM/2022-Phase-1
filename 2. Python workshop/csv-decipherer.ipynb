{
 "cells": [
  {
   "cell_type": "markdown",
   "metadata": {},
   "source": [
    "# Space Station CSV Decipherer\n",
    "# ---------------------------------"
   ]
  },
  {
   "cell_type": "markdown",
   "metadata": {},
   "source": [
    "## CSV to List"
   ]
  },
  {
   "cell_type": "code",
   "execution_count": 12,
   "metadata": {},
   "outputs": [
    {
     "name": "stdout",
     "output_type": "stream",
     "text": [
      "[['id', ' transmission'], ['22', ' -.59.1-46.12-7.9.45.9.-614.2-3'], ['3', ' 8-.132.85-5.-3-79-49.6-68.1'], ['16', ' 68-13.74.581-24-941-2'], ['4', ' 97-236.1.712.2-543-81.4'], ['13', ' 5.921.3-.59-78-6.26.324.7'], ['7', ' 819.293.1-2..83.4.56.8'], ['1', ' 23--.8.27.3-4.82.6-.86-632-45.'], ['19', ' 98-159-.49.1.53-1-8.-67'], ['25', ' 1-547.-98.5.17-572-62'], ['0', ' .9-76.-8.-46-.8.27-.-346-.9-73'], ['14', ' 6.9.3-85-645.69-4.8.56'], ['11', ' 3.9.785..92.38.5-7-354'], ['6', ' 2.95-9.3-.51.89.5-7.55.63'], ['20', ' 75.2-4.56.-834-.49-87-43']]\n"
     ]
    }
   ],
   "source": [
    "transmissions = []\n",
    "\n",
    "import csv\n",
    "with open('transmissions.csv') as csvfile:\n",
    "    transmissionreader = csv.reader(csvfile)\n",
    "    for row in transmissionreader:\n",
    "        transmissions.append(row)\n",
    "\n",
    "print(transmissions)"
   ]
  }
 ],
 "metadata": {
  "interpreter": {
   "hash": "26de051ba29f2982a8de78e945f0abaf191376122a1563185a90213a26c5da77"
  },
  "kernelspec": {
   "display_name": "Python 3.10.4 64-bit",
   "language": "python",
   "name": "python3"
  },
  "language_info": {
   "codemirror_mode": {
    "name": "ipython",
    "version": 3
   },
   "file_extension": ".py",
   "mimetype": "text/x-python",
   "name": "python",
   "nbconvert_exporter": "python",
   "pygments_lexer": "ipython3",
   "version": "3.10.4"
  },
  "orig_nbformat": 4
 },
 "nbformat": 4,
 "nbformat_minor": 2
}
